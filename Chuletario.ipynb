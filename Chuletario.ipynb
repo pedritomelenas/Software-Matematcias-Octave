{
 "cells": [
  {
   "cell_type": "markdown",
   "metadata": {},
   "source": [
    "# Chuletario de Octave\n",
    "\n",
    "Este documento está realizado a partir de esta [cheatsheet](http://ais.informatik.uni-freiburg.de/teaching/ws16/mapping/exercise/cheatsheet.pdf) y esta [introducción](http://www-h.eng.cam.ac.uk/help/programs/octave/tutorial). También se han usado los apuntes de Luis Merino González y Evangelina Santos Aláez.\n",
    "\n",
    "Para una descripción más detallada, se puede consultar el [manual oficial](https://www.gnu.org/software/octave/doc/v4.2.1)."
   ]
  },
  {
   "cell_type": "markdown",
   "metadata": {},
   "source": [
    "## Sistema de ayuda\n",
    "\n",
    "Información sobre un comando específico puede obtenerse utilizando `help`."
   ]
  },
  {
   "cell_type": "code",
   "execution_count": 1,
   "metadata": {},
   "outputs": [
    {
     "name": "stdout",
     "output_type": "stream",
     "text": [
      "'rand' is a built-in function from the file libinterp/corefcn/rand.cc\n",
      "\n",
      " -- rand (N)\n",
      " -- rand (M, N, ...)\n",
      " -- rand ([M N ...])\n",
      " -- V = rand (\"state\")\n",
      " -- rand (\"state\", V)\n",
      " -- rand (\"state\", \"reset\")\n",
      " -- V = rand (\"seed\")\n",
      " -- rand (\"seed\", V)\n",
      " -- rand (\"seed\", \"reset\")\n",
      " -- rand (..., \"single\")\n",
      " -- rand (..., \"double\")\n",
      "     Return a matrix with random elements uniformly distributed on the\n",
      "     interval (0, 1).\n",
      "\n",
      "     The arguments are handled the same as the arguments for 'eye'.\n",
      "\n",
      "     You can query the state of the random number generator using the\n",
      "     form\n",
      "\n",
      "          v = rand (\"state\")\n",
      "\n",
      "     This returns a column vector V of length 625.  Later, you can\n",
      "     restore the random number generator to the state V using the form\n",
      "\n",
      "          rand (\"state\", v)\n",
      "\n",
      "     You may also initialize the state vector from an arbitrary vector\n",
      "     of length <= 625 for V.  This new state will be a hash based on the\n",
      "     value of V, not V itself.\n",
      "\n",
      "     By default, the generator is initialized from '/dev/urandom' if it\n",
      "     is available, otherwise from CPU time, wall clock time, and the\n",
      "     current fraction of a second.  Note that this differs from MATLAB,\n",
      "     which always initializes the state to the same state at startup.\n",
      "     To obtain behavior comparable to MATLAB, initialize with a\n",
      "     deterministic state vector in Octave's startup files (*note Startup\n",
      "     Files::).\n",
      "\n",
      "     To compute the pseudo-random sequence, 'rand' uses the Mersenne\n",
      "     Twister with a period of 2^{19937}-1 (See M. Matsumoto and T.\n",
      "     Nishimura, 'Mersenne Twister: A 623-dimensionally equidistributed\n",
      "     uniform pseudorandom number generator', ACM Trans.  on Modeling and\n",
      "     Computer Simulation Vol.  8, No.  1, pp.  3-30, January 1998,\n",
      "     <http://www.math.sci.hiroshima-u.ac.jp/~m-mat/MT/emt.html>).  Do\n",
      "     *not* use for cryptography without securely hashing several\n",
      "     returned values together, otherwise the generator state can be\n",
      "     learned after reading 624 consecutive values.\n",
      "\n",
      "     Older versions of Octave used a different random number generator.\n",
      "     The new generator is used by default as it is significantly faster\n",
      "     than the old generator, and produces random numbers with a\n",
      "     significantly longer cycle time.  However, in some circumstances it\n",
      "     might be desirable to obtain the same random sequences as produced\n",
      "     by the old generators.  To do this the keyword \"seed\" is used to\n",
      "     specify that the old generators should be used, as in\n",
      "\n",
      "          rand (\"seed\", val)\n",
      "\n",
      "     which sets the seed of the generator to VAL.  The seed of the\n",
      "     generator can be queried with\n",
      "\n",
      "          s = rand (\"seed\")\n",
      "\n",
      "     However, it should be noted that querying the seed will not cause\n",
      "     'rand' to use the old generators, only setting the seed will.  To\n",
      "     cause 'rand' to once again use the new generators, the keyword\n",
      "     \"state\" should be used to reset the state of the 'rand'.\n",
      "\n",
      "     The state or seed of the generator can be reset to a new random\n",
      "     value using the \"reset\" keyword.\n",
      "\n",
      "     The class of the value returned can be controlled by a trailing\n",
      "     \"double\" or \"single\" argument.  These are the only valid classes.\n",
      "\n",
      "     See also: randn, rande, randg, randp.\n",
      "\n",
      "Additional help for built-in functions and operators is\n",
      "available in the online version of the manual.  Use the command\n",
      "'doc <topic>' to search the manual index.\n",
      "\n",
      "Help and information about Octave is also available on the WWW\n",
      "at http://www.octave.org and via the help@octave.org\n",
      "mailing list.\n"
     ]
    }
   ],
   "source": [
    "help rand"
   ]
  },
  {
   "cell_type": "markdown",
   "metadata": {},
   "source": [
    "También podemos buscar una palabra en el texto de ayuda de todas las funciones de `octave` con `lookfor`"
   ]
  },
  {
   "cell_type": "code",
   "execution_count": 2,
   "metadata": {},
   "outputs": [
    {
     "name": "stdout",
     "output_type": "stream",
     "text": [
      "eig                 Compute the right eigenvalues(V) and optionally the eigenve\n",
      "                    ctors(lambda) and the left eigenvalues(W) of a matrix or a\n",
      "                    pair of matrices.\n",
      "ordschur            Reorders the real Schur factorization (U,S) obtained with t\n",
      "                    he 'schur' function, so that selected eigenvalues appear in\n",
      "                    n the upper left diagonal blocks of the quasi triangular Sc\n",
      "                    chur matrix.\n",
      "condeig             Compute condition numbers of a matrix with respect to eigen\n",
      "                    values.\n",
      "eigs                Calculate a limited number of eigenvalues and eigenvectors \n",
      "                    of A, based on a selection criteria.\n"
     ]
    }
   ],
   "source": [
    "lookfor eigenvalues"
   ]
  },
  {
   "cell_type": "markdown",
   "metadata": {},
   "source": [
    "Las variables definidas en la sesión se pueden consultar con `who`"
   ]
  },
  {
   "cell_type": "code",
   "execution_count": 3,
   "metadata": {},
   "outputs": [
    {
     "name": "stdout",
     "output_type": "stream",
     "text": [
      "Variables in the current scope:\n",
      "\n",
      "ans\n",
      "\n"
     ]
    }
   ],
   "source": [
    "who"
   ]
  },
  {
   "cell_type": "markdown",
   "metadata": {},
   "source": [
    "Y se pueden borrar con `clear`.\n",
    "\n",
    "Si estamos en un terminal, podemos usar `clc` para borrar la pantalla, y `more off` para desactivar el paginado."
   ]
  },
  {
   "cell_type": "markdown",
   "metadata": {},
   "source": [
    "## Entrada de datos"
   ]
  },
  {
   "cell_type": "markdown",
   "metadata": {},
   "source": [
    "`octave` está orientado a vectores y matrices. Éstos se pueden definir usando corchetes `[]`. \n",
    "\n",
    "Los elementos están separados por espacios o comas, y las filas se delimitan con punto y coma."
   ]
  },
  {
   "cell_type": "code",
   "execution_count": 4,
   "metadata": {},
   "outputs": [
    {
     "name": "stdout",
     "output_type": "stream",
     "text": [
      "a =\n",
      "\n",
      "   1   2   3   4\n",
      "\n"
     ]
    }
   ],
   "source": [
    "a = [1,2,3,4]"
   ]
  },
  {
   "cell_type": "code",
   "execution_count": 5,
   "metadata": {},
   "outputs": [
    {
     "name": "stdout",
     "output_type": "stream",
     "text": [
      "A =\n",
      "\n",
      "   1   2\n",
      "   3   4\n",
      "\n"
     ]
    }
   ],
   "source": [
    "A = [ 1 2; 3 4]"
   ]
  },
  {
   "cell_type": "markdown",
   "metadata": {},
   "source": [
    "El tamaño de una matriz lo podemos obtener con `size`. También podemos usar este comando para ver el tamaño de una fila. Los índices empiezan en 1."
   ]
  },
  {
   "cell_type": "code",
   "execution_count": 6,
   "metadata": {},
   "outputs": [
    {
     "name": "stdout",
     "output_type": "stream",
     "text": [
      "ans =\n",
      "\n",
      "   2   2\n",
      "\n"
     ]
    }
   ],
   "source": [
    "size(A)"
   ]
  },
  {
   "cell_type": "code",
   "execution_count": 7,
   "metadata": {},
   "outputs": [
    {
     "name": "stdout",
     "output_type": "stream",
     "text": [
      "ans =  2\n"
     ]
    }
   ],
   "source": [
    "size(A,1)"
   ]
  },
  {
   "cell_type": "markdown",
   "metadata": {},
   "source": [
    "Los rangos se especifican con `:`, y si usamos tres argumentos, el segundo es el incremento."
   ]
  },
  {
   "cell_type": "code",
   "execution_count": 8,
   "metadata": {},
   "outputs": [
    {
     "name": "stdout",
     "output_type": "stream",
     "text": [
      "b =\n",
      "\n",
      "    1    2    3    4    5    6    7    8    9   10\n",
      "\n"
     ]
    }
   ],
   "source": [
    "b=[1:10]"
   ]
  },
  {
   "cell_type": "code",
   "execution_count": 9,
   "metadata": {},
   "outputs": [
    {
     "name": "stdout",
     "output_type": "stream",
     "text": [
      "c =\n",
      "\n",
      " Columns 1 through 8:\n",
      "\n",
      "   1.0000   1.1000   1.2000   1.3000   1.4000   1.5000   1.6000   1.7000\n",
      "\n",
      " Columns 9 through 11:\n",
      "\n",
      "   1.8000   1.9000   2.0000\n",
      "\n"
     ]
    }
   ],
   "source": [
    "c=[1:0.1:2]"
   ]
  },
  {
   "cell_type": "markdown",
   "metadata": {},
   "source": [
    "Existen varias funciones predefinidas que crean matrices:\n",
    "\n",
    "- `zeros` crea una matriz de ceros del tamaño especificado,\n",
    "- `ones` hace los mismo con unos,\n",
    "- `diag` crea una matriz cuadrada con valores dados en la diagonal,\n",
    "- `eye` es la matriz identidad."
   ]
  },
  {
   "cell_type": "code",
   "execution_count": 10,
   "metadata": {},
   "outputs": [
    {
     "name": "stdout",
     "output_type": "stream",
     "text": [
      "ans =\n",
      "\n",
      "   0   0   0\n",
      "   0   0   0\n",
      "\n"
     ]
    }
   ],
   "source": [
    "zeros(2,3)"
   ]
  },
  {
   "cell_type": "code",
   "execution_count": 11,
   "metadata": {},
   "outputs": [
    {
     "name": "stdout",
     "output_type": "stream",
     "text": [
      "ans =\n",
      "\n",
      "   1   1   1\n",
      "   1   1   1\n",
      "\n"
     ]
    }
   ],
   "source": [
    "ones(2,3)"
   ]
  },
  {
   "cell_type": "code",
   "execution_count": 12,
   "metadata": {},
   "outputs": [
    {
     "name": "stdout",
     "output_type": "stream",
     "text": [
      "ans =\n",
      "\n",
      "Diagonal Matrix\n",
      "\n",
      "   1   0   0\n",
      "   0   2   0\n",
      "   0   0   6\n",
      "\n"
     ]
    }
   ],
   "source": [
    "diag([1 2 6])"
   ]
  },
  {
   "cell_type": "code",
   "execution_count": 13,
   "metadata": {
    "scrolled": false
   },
   "outputs": [
    {
     "name": "stdout",
     "output_type": "stream",
     "text": [
      "ans =\n",
      "\n",
      "Diagonal Matrix\n",
      "\n",
      "   1   0\n",
      "   0   1\n",
      "\n"
     ]
    }
   ],
   "source": [
    "eye(2)"
   ]
  },
  {
   "cell_type": "markdown",
   "metadata": {},
   "source": [
    "Podemos concatenar matrices y vectores siempre que las dimensiones sean compatibles:\n",
    "- `[A B]` concatena horizontalmente `A` seguido de `B`,\n",
    "- `[A ; B]` concatena verticalemente,\n",
    "- `repmat(A,n,m)` crea `n` por `m` copias de `A`."
   ]
  },
  {
   "cell_type": "code",
   "execution_count": 14,
   "metadata": {},
   "outputs": [
    {
     "name": "stdout",
     "output_type": "stream",
     "text": [
      "ans =\n",
      "\n",
      " Columns 1 through 8:\n",
      "\n",
      "   1.0000   1.1000   1.2000   1.3000   1.4000   1.5000   1.6000   1.7000\n",
      "   1.0000   1.1000   1.2000   1.3000   1.4000   1.5000   1.6000   1.7000\n",
      "\n",
      " Columns 9 through 11:\n",
      "\n",
      "   1.8000   1.9000   2.0000\n",
      "   1.8000   1.9000   2.0000\n",
      "\n"
     ]
    }
   ],
   "source": [
    "[c;c]"
   ]
  },
  {
   "cell_type": "code",
   "execution_count": 15,
   "metadata": {},
   "outputs": [
    {
     "name": "stdout",
     "output_type": "stream",
     "text": [
      "ans =\n",
      "\n",
      "   1   2   1   2\n",
      "   3   4   3   4\n",
      "\n"
     ]
    }
   ],
   "source": [
    "[A A]"
   ]
  },
  {
   "cell_type": "code",
   "execution_count": 16,
   "metadata": {
    "scrolled": true
   },
   "outputs": [
    {
     "name": "stdout",
     "output_type": "stream",
     "text": [
      "Z =\n",
      "\n",
      "   1   2   1   2   1   2\n",
      "   3   4   3   4   3   4\n",
      "   1   2   1   2   1   2\n",
      "   3   4   3   4   3   4\n",
      "\n"
     ]
    }
   ],
   "source": [
    "Z=repmat(A,2,3)"
   ]
  },
  {
   "cell_type": "markdown",
   "metadata": {},
   "source": [
    "Algo parecido a los rangos hace la función `linspace`, que devuelve un vector con valores entre dos dados y con tantas entradas como se indique en el tercer argumento. La distancia entre dos entradas consecutivas es constante."
   ]
  },
  {
   "cell_type": "code",
   "execution_count": 17,
   "metadata": {},
   "outputs": [
    {
     "name": "stdout",
     "output_type": "stream",
     "text": [
      "ans =\n",
      "\n",
      "   0.00000   0.50000   1.00000\n",
      "\n"
     ]
    }
   ],
   "source": [
    "linspace(0,1,3)"
   ]
  },
  {
   "cell_type": "code",
   "execution_count": 18,
   "metadata": {},
   "outputs": [
    {
     "name": "stdout",
     "output_type": "stream",
     "text": [
      "ans =\n",
      "\n",
      "   0   1\n",
      "\n"
     ]
    }
   ],
   "source": [
    "linspace(0,1,2)"
   ]
  },
  {
   "cell_type": "markdown",
   "metadata": {},
   "source": [
    "Podemos crear vectores y matrices con entradas aleatorias:\n",
    "- `unifrnd` crea una matriz con entradas aleatorias en un intervalo dado,\n",
    "- `normrnd` hace lo mismo con una variable aleatoria normal con media y desviación típica dadas."
   ]
  },
  {
   "cell_type": "code",
   "execution_count": 19,
   "metadata": {},
   "outputs": [
    {
     "name": "stdout",
     "output_type": "stream",
     "text": [
      "u =\n",
      "\n",
      "   13.5758\n",
      "    9.6067\n",
      "    8.3491\n",
      "   14.6166\n",
      "    5.1808\n",
      "    5.3217\n",
      "   12.4524\n",
      "    5.6935\n",
      "    9.8790\n",
      "   11.1446\n",
      "\n"
     ]
    }
   ],
   "source": [
    "u = unifrnd(5,15,10,1)"
   ]
  },
  {
   "cell_type": "code",
   "execution_count": 20,
   "metadata": {
    "scrolled": true
   },
   "outputs": [
    {
     "name": "stdout",
     "output_type": "stream",
     "text": [
      "N =\n",
      "\n",
      "   1.22528   1.72874   2.85860\n",
      "  -0.57089   2.96825   3.14764\n",
      "   3.00402   1.41219   1.83413\n",
      "\n"
     ]
    }
   ],
   "source": [
    "N = normrnd(2.5,1.0,3,3)"
   ]
  },
  {
   "cell_type": "markdown",
   "metadata": {},
   "source": [
    "Se pueden omitir los corchetes en los rangos."
   ]
  },
  {
   "cell_type": "code",
   "execution_count": 21,
   "metadata": {},
   "outputs": [
    {
     "name": "stdout",
     "output_type": "stream",
     "text": [
      "ans =\n",
      "\n",
      "   1   2   3\n",
      "\n"
     ]
    }
   ],
   "source": [
    "1:3"
   ]
  },
  {
   "cell_type": "code",
   "execution_count": 22,
   "metadata": {},
   "outputs": [
    {
     "name": "stdout",
     "output_type": "stream",
     "text": [
      "ans =\n",
      "\n",
      "   1   2   3   5   6   7\n",
      "\n"
     ]
    }
   ],
   "source": [
    "[1:3 5:7]"
   ]
  },
  {
   "cell_type": "markdown",
   "metadata": {},
   "source": [
    "## Acceso a celdas y submatrices\n",
    "\n",
    "Con `A(i,j)` podemos acceder a la celda `(i,j)` de la matriz `A`. Tanto `i` como `j` pueden ser listas, y por tanto rangos (definidos con `:`). Lo mismo se aplica a vectores."
   ]
  },
  {
   "cell_type": "code",
   "execution_count": 23,
   "metadata": {},
   "outputs": [
    {
     "name": "stdout",
     "output_type": "stream",
     "text": [
      "ans =  2\n"
     ]
    }
   ],
   "source": [
    "A(1,2)"
   ]
  },
  {
   "cell_type": "code",
   "execution_count": 24,
   "metadata": {},
   "outputs": [
    {
     "name": "stdout",
     "output_type": "stream",
     "text": [
      "ans =\n",
      "\n",
      "   1   2\n",
      "\n"
     ]
    }
   ],
   "source": [
    "A(1,:)"
   ]
  },
  {
   "cell_type": "code",
   "execution_count": 25,
   "metadata": {},
   "outputs": [
    {
     "name": "stdout",
     "output_type": "stream",
     "text": [
      "ans =\n",
      "\n",
      "   1   2   1   2\n",
      "   3   4   3   4\n",
      "\n"
     ]
    }
   ],
   "source": [
    "Z(1:2,3:6)"
   ]
  },
  {
   "cell_type": "code",
   "execution_count": 26,
   "metadata": {},
   "outputs": [
    {
     "name": "stdout",
     "output_type": "stream",
     "text": [
      "ans =  8.3491\n"
     ]
    }
   ],
   "source": [
    "u(3)"
   ]
  },
  {
   "cell_type": "code",
   "execution_count": 27,
   "metadata": {
    "scrolled": true
   },
   "outputs": [
    {
     "name": "stdout",
     "output_type": "stream",
     "text": [
      "ans =\n",
      "\n",
      "   13.576\n",
      "   14.617\n",
      "   12.452\n",
      "   11.145\n",
      "\n"
     ]
    }
   ],
   "source": [
    "u(1:3:length(u))"
   ]
  },
  {
   "cell_type": "code",
   "execution_count": 28,
   "metadata": {},
   "outputs": [
    {
     "name": "stdout",
     "output_type": "stream",
     "text": [
      "ans =\n",
      "\n",
      "   13.5758\n",
      "    8.3491\n",
      "    5.1808\n",
      "\n"
     ]
    }
   ],
   "source": [
    "u([1 3 5])"
   ]
  },
  {
   "cell_type": "markdown",
   "metadata": {},
   "source": [
    "También podemos cambiar borrar valores en una matriz."
   ]
  },
  {
   "cell_type": "code",
   "execution_count": 29,
   "metadata": {},
   "outputs": [
    {
     "name": "stdout",
     "output_type": "stream",
     "text": [
      "A2 =\n",
      "\n",
      "   1   2   1   2\n",
      "   3   4   3   4\n",
      "\n"
     ]
    }
   ],
   "source": [
    "A2=[A A]"
   ]
  },
  {
   "cell_type": "markdown",
   "metadata": {},
   "source": [
    "Modificamos la última columna:"
   ]
  },
  {
   "cell_type": "code",
   "execution_count": 30,
   "metadata": {},
   "outputs": [
    {
     "name": "stdout",
     "output_type": "stream",
     "text": [
      "A2 =\n",
      "\n",
      "   1   2   1   5\n",
      "   3   4   3   6\n",
      "\n"
     ]
    }
   ],
   "source": [
    "A2(:,4)=[5 6]"
   ]
  },
  {
   "cell_type": "markdown",
   "metadata": {},
   "source": [
    "O borramos la tercera (`[]` denota la lista vacía):"
   ]
  },
  {
   "cell_type": "code",
   "execution_count": 31,
   "metadata": {},
   "outputs": [
    {
     "name": "stdout",
     "output_type": "stream",
     "text": [
      "A2 =\n",
      "\n",
      "   1   2   5\n",
      "   3   4   6\n",
      "\n"
     ]
    }
   ],
   "source": [
    "A2(:,3)=[]"
   ]
  },
  {
   "cell_type": "markdown",
   "metadata": {},
   "source": [
    "## Guardar, borrar y recuperar variables"
   ]
  },
  {
   "cell_type": "code",
   "execution_count": 28,
   "metadata": {},
   "outputs": [
    {
     "name": "stdout",
     "output_type": "stream",
     "text": [
      "A =\n",
      "\n",
      "   1   2\n",
      "   3   4\n",
      "\n"
     ]
    }
   ],
   "source": [
    "save A\n",
    "clear A\n",
    "load A\n",
    "A"
   ]
  },
  {
   "cell_type": "markdown",
   "metadata": {},
   "source": [
    "## Operaciones con matrices\n",
    "\n",
    "La transposición se denota usando `'`, la suma `+`, el producto `*`, la potencia por un entero con `^`.\n",
    "\n",
    "Para el inverso podemos usar `inv` o `^(-1)`."
   ]
  },
  {
   "cell_type": "code",
   "execution_count": 29,
   "metadata": {},
   "outputs": [
    {
     "name": "stdout",
     "output_type": "stream",
     "text": [
      "ans =\n",
      "\n",
      "   1.00000   0.00000\n",
      "   0.00000   1.00000\n",
      "\n"
     ]
    }
   ],
   "source": [
    "A^(-1)*A"
   ]
  },
  {
   "cell_type": "markdown",
   "metadata": {},
   "source": [
    "Podemos hacer operaciones a nivel de celdas si usamos `.`."
   ]
  },
  {
   "cell_type": "code",
   "execution_count": 30,
   "metadata": {},
   "outputs": [
    {
     "name": "stdout",
     "output_type": "stream",
     "text": [
      "ans =\n",
      "\n",
      "    1    4\n",
      "    9   16\n",
      "\n"
     ]
    }
   ],
   "source": [
    "A .* A"
   ]
  },
  {
   "cell_type": "code",
   "execution_count": 31,
   "metadata": {},
   "outputs": [
    {
     "name": "stdout",
     "output_type": "stream",
     "text": [
      "ans =\n",
      "\n",
      "    7   10\n",
      "   15   22\n",
      "\n"
     ]
    }
   ],
   "source": [
    "A*A"
   ]
  },
  {
   "cell_type": "markdown",
   "metadata": {},
   "source": [
    "Se pueden dividir matrices, `A/B` se interpreta como `A*B^(-1)`. \n",
    "También existe el operador `\\`, que se interpreta como `A\\B=A^(-1)*B`. Ésto es especialmente útil para resolver sistemas de ecuaciones."
   ]
  },
  {
   "cell_type": "code",
   "execution_count": 32,
   "metadata": {},
   "outputs": [
    {
     "name": "stdout",
     "output_type": "stream",
     "text": [
      "x =\n",
      "\n",
      "   0.00000\n",
      "   0.50000\n",
      "\n"
     ]
    }
   ],
   "source": [
    "b=[1 2]';\n",
    "x=A\\b"
   ]
  },
  {
   "cell_type": "code",
   "execution_count": 33,
   "metadata": {},
   "outputs": [
    {
     "name": "stdout",
     "output_type": "stream",
     "text": [
      "ans =\n",
      "\n",
      "   1\n",
      "   2\n",
      "\n"
     ]
    }
   ],
   "source": [
    "A*x"
   ]
  },
  {
   "cell_type": "markdown",
   "metadata": {},
   "source": [
    "También está permitido operar con escalares, lo que hará que se operen todas las celdas por dicho escalar."
   ]
  },
  {
   "cell_type": "code",
   "execution_count": 34,
   "metadata": {},
   "outputs": [
    {
     "name": "stdout",
     "output_type": "stream",
     "text": [
      "ans =\n",
      "\n",
      "   2   4\n",
      "   6   8\n",
      "\n"
     ]
    }
   ],
   "source": [
    "2*A"
   ]
  },
  {
   "cell_type": "code",
   "execution_count": 35,
   "metadata": {
    "scrolled": true
   },
   "outputs": [
    {
     "name": "stdout",
     "output_type": "stream",
     "text": [
      "ans =\n",
      "\n",
      "   3   4\n",
      "   5   6\n",
      "\n"
     ]
    }
   ],
   "source": [
    "2+A"
   ]
  },
  {
   "cell_type": "code",
   "execution_count": 36,
   "metadata": {},
   "outputs": [
    {
     "name": "stdout",
     "output_type": "stream",
     "text": [
      "ans =\n",
      "\n",
      "   3   3   3   3   3\n",
      "\n"
     ]
    }
   ],
   "source": [
    "3+zeros(1,5)"
   ]
  },
  {
   "cell_type": "markdown",
   "metadata": {},
   "source": [
    "A una matriz le podemos aplicar otro tipo de funciones de un solo argumentos, haciendo así que la función se evalue celda a celda."
   ]
  },
  {
   "cell_type": "code",
   "execution_count": 37,
   "metadata": {},
   "outputs": [
    {
     "name": "stdout",
     "output_type": "stream",
     "text": [
      "ans =\n",
      "\n",
      "   0.54030  -0.41615\n",
      "  -0.98999  -0.65364\n",
      "\n"
     ]
    }
   ],
   "source": [
    "cos(A)"
   ]
  },
  {
   "cell_type": "code",
   "execution_count": 38,
   "metadata": {},
   "outputs": [
    {
     "name": "stdout",
     "output_type": "stream",
     "text": [
      "ans =\n",
      "\n",
      "   1.0000   1.4142\n",
      "   1.7321   2.0000\n",
      "\n"
     ]
    }
   ],
   "source": [
    "sqrt(A)"
   ]
  },
  {
   "cell_type": "markdown",
   "metadata": {},
   "source": [
    "Para calcular el determinante, usamos `det`; para la traza `trace` y para el rango `rank`."
   ]
  },
  {
   "cell_type": "code",
   "execution_count": 39,
   "metadata": {},
   "outputs": [
    {
     "name": "stdout",
     "output_type": "stream",
     "text": [
      "ans = -2\n",
      "ans =  5\n",
      "ans =  2\n"
     ]
    }
   ],
   "source": [
    "det(A)\n",
    "trace(A)\n",
    "rank(A)"
   ]
  },
  {
   "cell_type": "markdown",
   "metadata": {},
   "source": [
    "Los valores propios los podemos calcular con `eig`."
   ]
  },
  {
   "cell_type": "code",
   "execution_count": 40,
   "metadata": {
    "scrolled": false
   },
   "outputs": [
    {
     "name": "stdout",
     "output_type": "stream",
     "text": [
      "ans =\n",
      "\n",
      "  -0.37228\n",
      "   5.37228\n",
      "\n"
     ]
    }
   ],
   "source": [
    "eig(A)"
   ]
  },
  {
   "cell_type": "markdown",
   "metadata": {},
   "source": [
    "Si queremos los vectores propios, guardamos la salida en una lista con dos argumentos."
   ]
  },
  {
   "cell_type": "code",
   "execution_count": 41,
   "metadata": {},
   "outputs": [
    {
     "name": "stdout",
     "output_type": "stream",
     "text": [
      "v =\n",
      "\n",
      "  -0.82456  -0.41597\n",
      "   0.56577  -0.90938\n",
      "\n",
      "l =\n",
      "\n",
      "Diagonal Matrix\n",
      "\n",
      "  -0.37228         0\n",
      "         0   5.37228\n",
      "\n"
     ]
    }
   ],
   "source": [
    "[v,l]=eig(A)"
   ]
  },
  {
   "cell_type": "markdown",
   "metadata": {},
   "source": [
    "También podemos calcular el polinomio característico de una matriz."
   ]
  },
  {
   "cell_type": "code",
   "execution_count": 49,
   "metadata": {
    "scrolled": true
   },
   "outputs": [
    {
     "name": "stdout",
     "output_type": "stream",
     "text": [
      "ans =\n",
      "\n",
      "   1.0000  -5.0000  -2.0000\n",
      "\n"
     ]
    }
   ],
   "source": [
    "poly(A)"
   ]
  },
  {
   "cell_type": "markdown",
   "metadata": {},
   "source": [
    "En este caso representa al polinomio $x^2-5x-2$. Y luego podemos calcular sus raíces, recuperando así otra vez los valores propios."
   ]
  },
  {
   "cell_type": "code",
   "execution_count": 50,
   "metadata": {},
   "outputs": [
    {
     "name": "stdout",
     "output_type": "stream",
     "text": [
      "ans =\n",
      "\n",
      "   5.37228\n",
      "  -0.37228\n",
      "\n"
     ]
    }
   ],
   "source": [
    "roots(poly(A))"
   ]
  },
  {
   "cell_type": "markdown",
   "metadata": {},
   "source": [
    "El núcleo de la matriz se puede calcular con `null`."
   ]
  },
  {
   "cell_type": "code",
   "execution_count": 42,
   "metadata": {
    "scrolled": true
   },
   "outputs": [
    {
     "name": "stdout",
     "output_type": "stream",
     "text": [
      "ans = [](2x0)\n"
     ]
    }
   ],
   "source": [
    "null(A)"
   ]
  },
  {
   "cell_type": "code",
   "execution_count": 43,
   "metadata": {},
   "outputs": [
    {
     "name": "stdout",
     "output_type": "stream",
     "text": [
      "v =\n",
      "\n",
      "  -0.70711\n",
      "  -0.70711\n",
      "\n",
      "ans =\n",
      "\n",
      "   0\n",
      "   0\n",
      "\n"
     ]
    }
   ],
   "source": [
    "AA = [1 -1; 2 -2];\n",
    "v=null(AA)\n",
    "AA*v"
   ]
  },
  {
   "cell_type": "markdown",
   "metadata": {},
   "source": [
    "La forma reducida de Hermite se puede calcular con `rref`."
   ]
  },
  {
   "cell_type": "code",
   "execution_count": 44,
   "metadata": {
    "scrolled": true
   },
   "outputs": [
    {
     "name": "stdout",
     "output_type": "stream",
     "text": [
      "ans =\n",
      "\n",
      "   1   0  -1\n",
      "   0   1   2\n",
      "\n"
     ]
    }
   ],
   "source": [
    "rref([1 2 3; 4 5 6])"
   ]
  },
  {
   "cell_type": "markdown",
   "metadata": {},
   "source": [
    "Este comando puede ser de especial interés si lo utilizamos con una matriz ampliada, pues sirve para resolver sistemas de ecuaciones lineales de una forma alternativa a la vista anteriormente."
   ]
  },
  {
   "cell_type": "code",
   "execution_count": 46,
   "metadata": {},
   "outputs": [
    {
     "name": "stdout",
     "output_type": "stream",
     "text": [
      "red =\n",
      "\n",
      "   1.00000   0.00000   0.00000\n",
      "   0.00000   1.00000   0.50000\n",
      "\n",
      "x =\n",
      "\n",
      "   0.00000\n",
      "   0.50000\n",
      "\n"
     ]
    }
   ],
   "source": [
    "red=rref([A b])\n",
    "x=red(:,3)"
   ]
  },
  {
   "cell_type": "markdown",
   "metadata": {},
   "source": [
    "También podemos usar `rref` para calcular inversas. "
   ]
  },
  {
   "cell_type": "code",
   "execution_count": 54,
   "metadata": {},
   "outputs": [
    {
     "name": "stdout",
     "output_type": "stream",
     "text": [
      "red =\n",
      "\n",
      "   1.00000   0.00000  -2.00000   1.00000\n",
      "   0.00000   1.00000   1.50000  -0.50000\n",
      "\n",
      "invA =\n",
      "\n",
      "  -2.00000   1.00000\n",
      "   1.50000  -0.50000\n",
      "\n",
      "ans =\n",
      "\n",
      "   1.00000   0.00000\n",
      "   0.00000   1.00000\n",
      "\n"
     ]
    }
   ],
   "source": [
    "red=rref([A eye(2)])\n",
    "invA=red(:,3:4)\n",
    "invA*A"
   ]
  },
  {
   "cell_type": "markdown",
   "metadata": {},
   "source": [
    "Por último, la función `find` aplana una matriz."
   ]
  },
  {
   "cell_type": "code",
   "execution_count": 51,
   "metadata": {
    "scrolled": true
   },
   "outputs": [
    {
     "name": "stdout",
     "output_type": "stream",
     "text": [
      "ans =\n",
      "\n",
      "   1\n",
      "   2\n",
      "   3\n",
      "   4\n",
      "\n"
     ]
    }
   ],
   "source": [
    "find(A)"
   ]
  },
  {
   "cell_type": "markdown",
   "metadata": {},
   "source": [
    "## Comparaciones\n",
    "\n",
    "La comparación de vectores (y matrices) se hace celda a celda, si queremos hacer una comparación global podemos usar `all`.\n",
    "\n",
    "La salida será `1` si la comparación es cierta y `0` en caso contrario."
   ]
  },
  {
   "cell_type": "code",
   "execution_count": 63,
   "metadata": {},
   "outputs": [
    {
     "name": "stdout",
     "output_type": "stream",
     "text": [
      "ans =\n",
      "\n",
      "  1  1  1\n",
      "\n"
     ]
    }
   ],
   "source": [
    "[1,2,3]==[1:3]"
   ]
  },
  {
   "cell_type": "code",
   "execution_count": 64,
   "metadata": {},
   "outputs": [
    {
     "name": "stdout",
     "output_type": "stream",
     "text": [
      "ans = 1\n"
     ]
    }
   ],
   "source": [
    "all([1,2,3]==[1:3])"
   ]
  },
  {
   "cell_type": "markdown",
   "metadata": {},
   "source": [
    "El análogo a `all` para \"existe algún elemento cumpliendo la condición\" es `any`"
   ]
  },
  {
   "cell_type": "code",
   "execution_count": 66,
   "metadata": {},
   "outputs": [
    {
     "name": "stdout",
     "output_type": "stream",
     "text": [
      "ans = 1\n"
     ]
    }
   ],
   "source": [
    "any([1,2,3]==[1,1,1])"
   ]
  },
  {
   "cell_type": "code",
   "execution_count": 67,
   "metadata": {},
   "outputs": [
    {
     "name": "stdout",
     "output_type": "stream",
     "text": [
      "ans = 0\n"
     ]
    }
   ],
   "source": [
    "any([1,2,3]<[1,1,1])"
   ]
  },
  {
   "cell_type": "markdown",
   "metadata": {},
   "source": [
    "La desigualdad se denota por `~=`."
   ]
  },
  {
   "cell_type": "code",
   "execution_count": 15,
   "metadata": {},
   "outputs": [
    {
     "name": "stdout",
     "output_type": "stream",
     "text": [
      "ans = 1\n"
     ]
    }
   ],
   "source": [
    "1~=2"
   ]
  },
  {
   "cell_type": "markdown",
   "metadata": {},
   "source": [
    "## Programación"
   ]
  },
  {
   "cell_type": "markdown",
   "metadata": {},
   "source": [
    "Las funciones tienen la siguiente estructura:\n",
    "```\n",
    "function [retval1, retval2, ...] <nombre_función>(arg1, arg2, ...)\n",
    "    <cuerpo de la función>\n",
    "end\n",
    "```\n",
    "Para devolver una valor, asignamos a `retvaln` un valor en el cuerpo de la función. La ayuda de la función la podemos poner como un comentario bajo la primera línea."
   ]
  },
  {
   "cell_type": "code",
   "execution_count": 12,
   "metadata": {},
   "outputs": [],
   "source": [
    "function y = suma_dos_numeros(a,b)\n",
    "% suma_dos_numeros hace lo que el nombre dice\n",
    "    y = a+b\n",
    "end"
   ]
  },
  {
   "cell_type": "code",
   "execution_count": 13,
   "metadata": {},
   "outputs": [
    {
     "name": "stdout",
     "output_type": "stream",
     "text": [
      "y =  5\n",
      "ans =  5\n"
     ]
    }
   ],
   "source": [
    "suma_dos_numeros(2,3)"
   ]
  },
  {
   "cell_type": "code",
   "execution_count": 14,
   "metadata": {},
   "outputs": [
    {
     "name": "stdout",
     "output_type": "stream",
     "text": [
      "'suma_dos_numeros' is a command-line function\n",
      "\n",
      " suma_dos_numeros hace lo que el nombre dice\n",
      "\n",
      "\n",
      "Additional help for built-in functions and operators is\n",
      "available in the online version of the manual.  Use the command\n",
      "'doc <topic>' to search the manual index.\n",
      "\n",
      "Help and information about Octave is also available on the WWW\n",
      "at http://www.octave.org and via the help@octave.org\n",
      "mailing list.\n"
     ]
    }
   ],
   "source": [
    "help suma_dos_numeros"
   ]
  },
  {
   "cell_type": "markdown",
   "metadata": {},
   "source": [
    "Los bucles `for` tienen la siguiente forma:\n",
    "```\n",
    "for i=lista\n",
    "    <cuerpo for>\n",
    "endfor\n",
    "```\n",
    "\n",
    "La sintaxis de `if` es `if ... then ... else ... endif`. También podemos introducir `elseif` antes de `else`. "
   ]
  },
  {
   "cell_type": "code",
   "execution_count": 54,
   "metadata": {},
   "outputs": [
    {
     "name": "stdout",
     "output_type": "stream",
     "text": [
      "impar: 1\n",
      "par: 2\n",
      "impar: 3\n"
     ]
    }
   ],
   "source": [
    "for i=[1:3]\n",
    "    if mod(i,2)==0\n",
    "        disp(['par: ' num2str(i)])\n",
    "    else\n",
    "        disp(['impar: ' num2str(i)])\n",
    "    endif\n",
    "endfor"
   ]
  },
  {
   "cell_type": "markdown",
   "metadata": {},
   "source": [
    "En el ejemplo anterior hay varios elementos nuevos: `disp`, `num2str` y la concatenación de cadenas de caracteres.\n",
    "\n",
    "Por un lado, `disp` muestra en pantalla una cadena de caracteres, `num2str` convierte un número a una cadena de caracteres. La concatenación de una o más cadenas se consigue creando un vector con dichas cadenas."
   ]
  },
  {
   "cell_type": "markdown",
   "metadata": {},
   "source": [
    "Parma más de una opción, puede ser coneniente `switch .. case .. end` en vez de `if .. endif`. "
   ]
  },
  {
   "cell_type": "code",
   "execution_count": 8,
   "metadata": {},
   "outputs": [
    {
     "name": "stdout",
     "output_type": "stream",
     "text": [
      "1 tiene resto uno módulo tres\n",
      "caso díscolo\n",
      "3 es divisible por tres\n",
      "4 tiene resto uno módulo tres\n",
      "caso díscolo\n",
      "6 es divisible por tres\n",
      "7 tiene resto uno módulo tres\n"
     ]
    }
   ],
   "source": [
    "for i=1:7 \n",
    "    switch mod(i,3)\n",
    "        case 0\n",
    "            disp([num2str(i) \" es divisible por tres\"])\n",
    "        case 1 \n",
    "            disp([num2str(i) \" tiene resto uno módulo tres\"])\n",
    "        otherwise\n",
    "            disp(\"caso díscolo\")\n",
    "    end\n",
    "endfor\n",
    "    "
   ]
  },
  {
   "cell_type": "markdown",
   "metadata": {},
   "source": [
    "Podemos también hacer bucles con `while`."
   ]
  },
  {
   "cell_type": "code",
   "execution_count": 11,
   "metadata": {},
   "outputs": [
    {
     "name": "stdout",
     "output_type": "stream",
     "text": [
      "p =  362880\n"
     ]
    }
   ],
   "source": [
    "i=1;\n",
    "p = 1;\n",
    "while i<10\n",
    "    p=p*i;\n",
    "    i=i+1;\n",
    "end\n",
    "p"
   ]
  },
  {
   "cell_type": "markdown",
   "metadata": {},
   "source": [
    "Es conveniente vectorizar siempre que se pueda. Pongamos un ejemplo con producto escalar.\n",
    "\n",
    "Hemos usado `;` para inhibir las salidas intermedias."
   ]
  },
  {
   "cell_type": "code",
   "execution_count": 58,
   "metadata": {},
   "outputs": [
    {
     "name": "stdout",
     "output_type": "stream",
     "text": [
      "pe =  55\n"
     ]
    }
   ],
   "source": [
    "pe = 0;\n",
    "v1 = [1:10];\n",
    "v2 = ones(1,10);\n",
    "for i=1:length(v1)\n",
    "    pe = pe + v1(i)*v2(i);\n",
    "endfor\n",
    "pe"
   ]
  },
  {
   "cell_type": "markdown",
   "metadata": {},
   "source": [
    "Que se puede hacer de forma más compacta (y eficiente) como"
   ]
  },
  {
   "cell_type": "code",
   "execution_count": 57,
   "metadata": {},
   "outputs": [
    {
     "name": "stdout",
     "output_type": "stream",
     "text": [
      "pe =  55\n"
     ]
    }
   ],
   "source": [
    "pe = sum(v1.*v2)"
   ]
  },
  {
   "cell_type": "markdown",
   "metadata": {},
   "source": [
    "Los ficheros con órdenes de `octave` (guiones) se pueden guardar con la extensión `.m`. Para cargarlos, basta con teclear en la consola el nombre del fichero sin la extensión. Con `what` podemos ver los ficheros que hay en el directorio de trabajo."
   ]
  },
  {
   "cell_type": "markdown",
   "metadata": {},
   "source": [
    "## Gráficas (básico)\n",
    "\n",
    "Como ejemlo vamos a pintar la función $\\sin(x)$."
   ]
  },
  {
   "cell_type": "code",
   "execution_count": 81,
   "metadata": {},
   "outputs": [
    {
     "data": {
      "image/png": "[encoded data removed]",
      "text/plain": [
       "<IPython.core.display.Image object>"
      ]
     },
     "metadata": {},
     "output_type": "display_data"
    }
   ],
   "source": [
    "x= -2*pi:0.1:2*pi;\n",
    "y=sin(x);\n",
    "% pintamos el seno\n",
    "plot(x,y)\n",
    "% eviramos que los siguientes comandos borren la gráfica actual\n",
    "hold on\n",
    "% pintamos coseno en verde y con cruces (+)\n",
    "plot(x,cos(x),'+g')\n",
    "% pintamos un punto azul\n",
    "plot(2,0.5,'ob')\n",
    "% ponemos un título y etiquetas a los ejes\n",
    "title(\"seno y coseno\")\n",
    "xlabel(\"x (rad)\")\n",
    "ylabel(\"y=f(x)\")\n",
    "% pintamos una malla\n",
    "grid on"
   ]
  },
  {
   "cell_type": "markdown",
   "metadata": {},
   "source": [
    "Se puede guardar el gráfico con `print(\"fichero\",'-dpng')` (en formato png)."
   ]
  },
  {
   "cell_type": "markdown",
   "metadata": {},
   "source": [
    "Se pueden 'concatenar' varios dibujos en un mismo `plot`"
   ]
  },
  {
   "cell_type": "code",
   "execution_count": 2,
   "metadata": {
    "scrolled": false
   },
   "outputs": [
    {
     "data": {
      "image/png": "[encoded data removed]",
      "text/plain": [
       "<IPython.core.display.Image object>"
      ]
     },
     "metadata": {},
     "output_type": "display_data"
    }
   ],
   "source": [
    "x= -2*pi:0.1:2*pi;\n",
    "plot(x,sin(x),x,cos(x),'+g')\n",
    "legend(\"Seno\",\"Coseno\")"
   ]
  },
  {
   "cell_type": "markdown",
   "metadata": {},
   "source": [
    "Podemos también pintar funciones en dos variables."
   ]
  },
  {
   "cell_type": "code",
   "execution_count": 4,
   "metadata": {},
   "outputs": [
    {
     "data": {
      "image/png": "[encoded data removed]",
      "text/plain": [
       "<IPython.core.display.Image object>"
      ]
     },
     "metadata": {},
     "output_type": "display_data"
    }
   ],
   "source": [
    "% creamos los valores de muestra de x e y\n",
    "x = -1:0.1:1;\n",
    "y = x;\n",
    "% con ellos construimos una malla\n",
    "[xg,yg] = meshgrid(x,y);\n",
    "% creamos una nueva matriz con los valores en la malla celda a celda (por eso el . antes de la operación)\n",
    "z=xg.^2- yg.^2;\n",
    "% pintamos la superficie resultante\n",
    "surf(xg,yg,z)\n"
   ]
  },
  {
   "cell_type": "markdown",
   "metadata": {},
   "source": [
    "O pintar curvas parametrizadas en tres variables."
   ]
  },
  {
   "cell_type": "code",
   "execution_count": 11,
   "metadata": {},
   "outputs": [
    {
     "data": {
      "image/png": "[encoded data removed]",
      "text/plain": [
       "<IPython.core.display.Image object>"
      ]
     },
     "metadata": {},
     "output_type": "display_data"
    }
   ],
   "source": [
    "t=-4*pi:0.1:4*pi;\n",
    "x=t;\n",
    "y=sin(t);\n",
    "z=cos(t);\n",
    "plot3(x,y,z)"
   ]
  }
 ],
 "metadata": {
  "kernelspec": {
   "display_name": "Octave",
   "language": "octave",
   "name": "octave"
  },
  "language_info": {
   "file_extension": ".m",
   "help_links": [
    {
     "text": "GNU Octave",
     "url": "https://www.gnu.org/software/octave/support.html"
    },
    {
     "text": "Octave Kernel",
     "url": "https://github.com/Calysto/octave_kernel"
    },
    {
     "text": "MetaKernel Magics",
     "url": "https://github.com/calysto/metakernel/blob/master/metakernel/magics/README.md"
    }
   ],
   "mimetype": "text/x-octave",
   "name": "octave",
   "version": "4.2.1"
  }
 },
 "nbformat": 4,
 "nbformat_minor": 2
}
